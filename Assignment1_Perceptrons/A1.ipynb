{
 "cells": [
  {
   "cell_type": "markdown",
   "id": "1e6f1ce7",
   "metadata": {},
   "source": [
    "# CISC/CMPE 452/COGS 400 Assignment 1 - Perceptron (10 points)  \n",
    "\n",
    "Please put your name and student id here\n",
    "\n",
    "    Kieran Cosgrove, #20226841\n",
    "\n",
    "- The notebook file has clearly marked blocks where you are expected to write code. Do not write or modify any code outside of these blocks.\n",
    "- Make sure to restart and run all the cells from the beginning before submission. Do not clear out the outputs.\n",
    "- Mark will be deducted based on late policy (-1% of the course total marks per day after due date until the end date after which no assignments will be accepted)\n",
    "\n"
   ]
  },
  {
   "cell_type": "markdown",
   "id": "51ca32e4",
   "metadata": {},
   "source": [
    "### Build Model (6 points)  \n",
    "Implement **Simple Feedback Learning** for emotion classification (dataset from: https://www.kaggle.com/praveengovi/emotions-dataset-for-nlp)\n",
    "\n",
    "Use the correct/incorrect feedback and info about (y>d) or (y<d) to change weights.  \n",
    "Refer to the **Perceptron slides**  \n",
    "\n",
    "- 1. Implement forward and calculate the output (2 point)  \n",
    "- 2. Update the weights and bias (2 points)  \n",
    "- 3. Predict function (1 point)  \n",
    "- 4. Activation function (1 point)  \n",
    "\n",
    "### Evaluator Function (2 point)  \n",
    "Implement the evaluator function with Pytorch or Numpy only   \n",
    "- Evaluation metrics include confusion matrix, accuracy, recall score, precision and F1 score\n",
    "\n",
    "### Train and Evaluate the Model (2 point)  \n",
    "Train the model with customized learning rate and number of iterations  \n",
    "Use the predict function to predict the labels with the test dataset  \n",
    "Evaluate the prediction results  \n",
    "- Evaluation metrics include confusion matrix, accuracy, recall score, precision and F1 score\n"
   ]
  },
  {
   "cell_type": "code",
   "execution_count": 1,
   "id": "e88fb434",
   "metadata": {
    "_cell_guid": "b1076dfc-b9ad-4769-8c92-a6c4dae69d19",
    "_uuid": "8f2839f25d086af736a60e9eeb907d3b93b6e0e5",
    "execution": {
     "iopub.execute_input": "2021-07-30T15:55:22.461852Z",
     "iopub.status.busy": "2021-07-30T15:55:22.461145Z",
     "iopub.status.idle": "2021-07-30T15:55:22.477161Z",
     "shell.execute_reply": "2021-07-30T15:55:22.476528Z",
     "shell.execute_reply.started": "2021-07-30T15:51:46.068206Z"
    },
    "papermill": {
     "duration": 0.128227,
     "end_time": "2021-07-30T15:55:22.477337",
     "exception": false,
     "start_time": "2021-07-30T15:55:22.349110",
     "status": "completed"
    },
    "tags": []
   },
   "outputs": [],
   "source": [
    "import numpy as np\n",
    "import pandas as pd\n",
    "import matplotlib.pyplot as plt"
   ]
  },
  {
   "cell_type": "code",
   "execution_count": 2,
   "id": "ec206866",
   "metadata": {
    "execution": {
     "iopub.execute_input": "2021-07-30T15:55:22.527612Z",
     "iopub.status.busy": "2021-07-30T15:55:22.527076Z",
     "iopub.status.idle": "2021-07-30T15:55:22.630770Z",
     "shell.execute_reply": "2021-07-30T15:55:22.630179Z",
     "shell.execute_reply.started": "2021-07-30T15:51:49.309549Z"
    },
    "papermill": {
     "duration": 0.129591,
     "end_time": "2021-07-30T15:55:22.630946",
     "exception": false,
     "start_time": "2021-07-30T15:55:22.501355",
     "status": "completed"
    },
    "tags": []
   },
   "outputs": [],
   "source": [
    "# load dataset\n",
    "df_train = pd.read_csv('data/train.txt', names=['Text', 'Emotion'], sep=';')\n",
    "df_test = pd.read_csv('data/test.txt', names=['Text', 'Emotion'], sep=';')"
   ]
  },
  {
   "cell_type": "code",
   "execution_count": 3,
   "id": "45b67a79",
   "metadata": {},
   "outputs": [
    {
     "data": {
      "text/html": [
       "<div>\n",
       "<style scoped>\n",
       "    .dataframe tbody tr th:only-of-type {\n",
       "        vertical-align: middle;\n",
       "    }\n",
       "\n",
       "    .dataframe tbody tr th {\n",
       "        vertical-align: top;\n",
       "    }\n",
       "\n",
       "    .dataframe thead th {\n",
       "        text-align: right;\n",
       "    }\n",
       "</style>\n",
       "<table border=\"1\" class=\"dataframe\">\n",
       "  <thead>\n",
       "    <tr style=\"text-align: right;\">\n",
       "      <th></th>\n",
       "      <th>Text</th>\n",
       "      <th>Emotion</th>\n",
       "    </tr>\n",
       "  </thead>\n",
       "  <tbody>\n",
       "    <tr>\n",
       "      <th>0</th>\n",
       "      <td>i didnt feel humiliated</td>\n",
       "      <td>sadness</td>\n",
       "    </tr>\n",
       "    <tr>\n",
       "      <th>1</th>\n",
       "      <td>i can go from feeling so hopeless to so damned...</td>\n",
       "      <td>sadness</td>\n",
       "    </tr>\n",
       "    <tr>\n",
       "      <th>2</th>\n",
       "      <td>im grabbing a minute to post i feel greedy wrong</td>\n",
       "      <td>anger</td>\n",
       "    </tr>\n",
       "    <tr>\n",
       "      <th>3</th>\n",
       "      <td>i am ever feeling nostalgic about the fireplac...</td>\n",
       "      <td>love</td>\n",
       "    </tr>\n",
       "    <tr>\n",
       "      <th>4</th>\n",
       "      <td>i am feeling grouchy</td>\n",
       "      <td>anger</td>\n",
       "    </tr>\n",
       "  </tbody>\n",
       "</table>\n",
       "</div>"
      ],
      "text/plain": [
       "                                                Text  Emotion\n",
       "0                            i didnt feel humiliated  sadness\n",
       "1  i can go from feeling so hopeless to so damned...  sadness\n",
       "2   im grabbing a minute to post i feel greedy wrong    anger\n",
       "3  i am ever feeling nostalgic about the fireplac...     love\n",
       "4                               i am feeling grouchy    anger"
      ]
     },
     "execution_count": 3,
     "metadata": {},
     "output_type": "execute_result"
    }
   ],
   "source": [
    "x_train = df_train['Text']\n",
    "y_train = df_train['Emotion']\n",
    "\n",
    "x_test = df_test['Text']\n",
    "y_test = df_test['Emotion']\n",
    "\n",
    "df_train.head()"
   ]
  },
  {
   "cell_type": "code",
   "execution_count": 4,
   "id": "7d9b94da",
   "metadata": {
    "execution": {
     "iopub.execute_input": "2021-07-30T15:55:22.734110Z",
     "iopub.status.busy": "2021-07-30T15:55:22.733595Z",
     "iopub.status.idle": "2021-07-30T15:55:23.506339Z",
     "shell.execute_reply": "2021-07-30T15:55:23.505894Z",
     "shell.execute_reply.started": "2021-07-30T15:51:50.435525Z"
    },
    "papermill": {
     "duration": 0.797748,
     "end_time": "2021-07-30T15:55:23.506460",
     "exception": false,
     "start_time": "2021-07-30T15:55:22.708712",
     "status": "completed"
    },
    "tags": []
   },
   "outputs": [
    {
     "data": {
      "text/plain": [
       "joy         5362\n",
       "sadness     4666\n",
       "anger       2159\n",
       "fear        1937\n",
       "love        1304\n",
       "surprise     572\n",
       "Name: Emotion, dtype: int64"
      ]
     },
     "execution_count": 4,
     "metadata": {},
     "output_type": "execute_result"
    }
   ],
   "source": [
    "df_train.Emotion.value_counts()"
   ]
  },
  {
   "cell_type": "markdown",
   "id": "6fcf3c63",
   "metadata": {},
   "source": [
    "## Data Preprocessing"
   ]
  },
  {
   "cell_type": "code",
   "execution_count": 5,
   "id": "9de64e8f",
   "metadata": {},
   "outputs": [],
   "source": [
    "# encode label\n",
    "y_train = y_train.replace({'joy':1, 'sadness':0, 'anger':0, 'fear':0, 'love':1, 'surprise':1})\n",
    "y_test = y_test.replace({'joy':1, 'sadness':0, 'anger':0, 'fear':0, 'love':1, 'surprise':1})"
   ]
  },
  {
   "cell_type": "code",
   "execution_count": 6,
   "id": "e45acbde",
   "metadata": {},
   "outputs": [],
   "source": [
    "from sklearn.feature_extraction.text import TfidfVectorizer\n",
    "tfidf = TfidfVectorizer(sublinear_tf=True, min_df=5)#, stop_words='english')\n",
    "\n",
    "# We transform each text into a vector\n",
    "x_train = tfidf.fit_transform(x_train).toarray()\n",
    "x_test = tfidf.transform(x_test).toarray()"
   ]
  },
  {
   "cell_type": "code",
   "execution_count": 7,
   "id": "6dd38370",
   "metadata": {},
   "outputs": [],
   "source": [
    "def evaluator(y_test, y_pred):\n",
    "    ####################################################################################################\n",
    "    # Accuracy\n",
    "    accuracy = np.sum(y_test == y_pred) / len(y_test)\n",
    "    \n",
    "    # Confusion matrix\n",
    "    TP = np.sum((y_test == 1) & (y_pred == 1))\n",
    "    TN = np.sum((y_test == 0) & (y_pred == 0))\n",
    "    FP = np.sum((y_test == 0) & (y_pred == 1))\n",
    "    FN = np.sum((y_test == 1) & (y_pred == 0))\n",
    "    confusion_matrix = np.array([[TP, FP], [FN, TN]])\n",
    "    \n",
    "    # Precision\n",
    "    precision = TP / (TP + FP)\n",
    "    \n",
    "    # Recall\n",
    "    recall = TP / (TP + FN)\n",
    "    \n",
    "    # F1 score\n",
    "    f1_score = 2 * ((precision * recall) / (precision + recall))\n",
    "    \n",
    "    return confusion_matrix, accuracy, recall, precision, f1_score\n",
    "\n",
    "    ####################################################################################################"
   ]
  },
  {
   "cell_type": "code",
   "execution_count": 8,
   "id": "141ff2cd",
   "metadata": {},
   "outputs": [],
   "source": [
    "class SimpleFeedbackLearning(object):\n",
    "    def __init__(self):\n",
    "        self.history = {}\n",
    "        self.history['train_acc'] = []\n",
    "        self.history['test_acc'] = []\n",
    "        \n",
    "    def f(self, x):\n",
    "        ####################################################################################################\n",
    "        # 4. enter code here to implement the activation function\n",
    "        #return np.where(self.W.T.dot(x) + self.b > 0, 1, 0)\n",
    "        #fx = np.where(np.dot(self.W.T, x) + self.b > 0, 1, 0)\n",
    "        fx = np.maximum(0, x)\n",
    "        ####################################################################################################\n",
    "        return fx\n",
    "    \n",
    "    def train(self, x, y, x_test, y_test, learning_rate=0.1, n_iters=10, verbose=True):\n",
    "        n_train, input_size = x.shape\n",
    "        n_test = x_test.shape[0]\n",
    "        # weight initialization\n",
    "        self.W = np.zeros(input_size)\n",
    "        self.b = np.zeros(1)\n",
    "\n",
    "        for i in range(n_iters):\n",
    "            for xi, yi in zip(x, y):\n",
    "                # forward\n",
    "                ####################################################################################################\n",
    "                # 1. enter code here to calculate the output\n",
    "                Dotproduct = np.dot(xi, self.W) + self.b\n",
    "                output = self.f(Dotproduct)\n",
    "\n",
    "                ####################################################################################################\n",
    "\n",
    "                ####################################################################################################\n",
    "                # # 2. enter code here to adjust the weights and bias\n",
    "                \n",
    "                # # Simple Feedback learning\n",
    "                error = output - yi\n",
    "                \n",
    "                if error > 0:\n",
    "                    # Output higher than expected, widely reduce weights\n",
    "                    self.W = self.W - learning_rate * xi\n",
    "                    self.b = self.b - learning_rate\n",
    "                elif error < 0:\n",
    "                    # Output lower than expected, increase weights slightly  \n",
    "                    self.W = self.W + learning_rate * xi\n",
    "                    self.b = self.b + learning_rate\n",
    "                    \n",
    "                # # Error Correction\n",
    "                # self.W = self.W + learning_rate * (yi - output) * xi\n",
    "                # self.b = self.b + learning_rate * (yi - output)\n",
    "\n",
    "                ####################################################################################################\n",
    "\n",
    "            train_acc = (self.predict(x) == y).sum() / n_train\n",
    "            test_acc = (self.predict(x_test) == y_test).sum() / n_test\n",
    "            self.history['train_acc'].append(train_acc)\n",
    "            self.history['test_acc'].append(test_acc)\n",
    "            if verbose:\n",
    "                print('epoch %d, train acc %.4f, test acc %.4f' % (i + 1, train_acc, test_acc))\n",
    "\n",
    "    def predict(self, x):\n",
    "        ####################################################################################################\n",
    "        # 3. enter code here to complete the predict function\n",
    "        # TODO: use the trained weights to predict labels and return the predicted labels #need to figure out grater or less than 0.5\n",
    "        Dotproduct = np.dot(x, self.W) + self.b\n",
    "        y_pred = np.round(self.f(Dotproduct))\n",
    "        ####################################################################################################\n",
    "        return y_pred"
   ]
  },
  {
   "cell_type": "code",
   "execution_count": 9,
   "id": "5ff486a5",
   "metadata": {},
   "outputs": [
    {
     "name": "stdout",
     "output_type": "stream",
     "text": [
      "epoch 1, train acc 0.5534, test acc 0.5450\n",
      "epoch 2, train acc 0.7373, test acc 0.7250\n",
      "epoch 3, train acc 0.8684, test acc 0.8625\n",
      "epoch 4, train acc 0.9137, test acc 0.9050\n",
      "epoch 5, train acc 0.9262, test acc 0.9245\n",
      "epoch 6, train acc 0.9266, test acc 0.9240\n",
      "epoch 7, train acc 0.9379, test acc 0.9350\n",
      "epoch 8, train acc 0.9472, test acc 0.9420\n",
      "epoch 9, train acc 0.9516, test acc 0.9425\n",
      "epoch 10, train acc 0.9569, test acc 0.9460\n",
      "epoch 11, train acc 0.9584, test acc 0.9475\n",
      "epoch 12, train acc 0.9583, test acc 0.9500\n",
      "epoch 13, train acc 0.9571, test acc 0.9495\n",
      "epoch 14, train acc 0.9592, test acc 0.9505\n",
      "epoch 15, train acc 0.9593, test acc 0.9495\n",
      "epoch 16, train acc 0.9622, test acc 0.9510\n",
      "epoch 17, train acc 0.9619, test acc 0.9520\n",
      "epoch 18, train acc 0.9623, test acc 0.9510\n",
      "epoch 19, train acc 0.9625, test acc 0.9510\n",
      "epoch 20, train acc 0.9627, test acc 0.9510\n",
      "epoch 21, train acc 0.9625, test acc 0.9495\n",
      "epoch 22, train acc 0.9629, test acc 0.9500\n",
      "epoch 23, train acc 0.9633, test acc 0.9515\n",
      "epoch 24, train acc 0.9644, test acc 0.9510\n",
      "epoch 25, train acc 0.9644, test acc 0.9515\n",
      "epoch 26, train acc 0.9646, test acc 0.9515\n",
      "epoch 27, train acc 0.9649, test acc 0.9500\n",
      "epoch 28, train acc 0.9647, test acc 0.9500\n",
      "epoch 29, train acc 0.9649, test acc 0.9505\n",
      "epoch 30, train acc 0.9659, test acc 0.9500\n",
      "epoch 31, train acc 0.9656, test acc 0.9500\n",
      "epoch 32, train acc 0.9660, test acc 0.9495\n",
      "epoch 33, train acc 0.9661, test acc 0.9500\n",
      "epoch 34, train acc 0.9664, test acc 0.9490\n",
      "epoch 35, train acc 0.9667, test acc 0.9485\n",
      "epoch 36, train acc 0.9660, test acc 0.9485\n",
      "epoch 37, train acc 0.9667, test acc 0.9490\n",
      "epoch 38, train acc 0.9666, test acc 0.9485\n",
      "epoch 39, train acc 0.9663, test acc 0.9485\n",
      "epoch 40, train acc 0.9666, test acc 0.9475\n",
      "epoch 41, train acc 0.9669, test acc 0.9480\n",
      "epoch 42, train acc 0.9669, test acc 0.9480\n",
      "epoch 43, train acc 0.9669, test acc 0.9490\n",
      "epoch 44, train acc 0.9672, test acc 0.9485\n",
      "epoch 45, train acc 0.9673, test acc 0.9490\n",
      "epoch 46, train acc 0.9674, test acc 0.9495\n",
      "epoch 47, train acc 0.9673, test acc 0.9490\n",
      "epoch 48, train acc 0.9675, test acc 0.9495\n",
      "epoch 49, train acc 0.9677, test acc 0.9490\n",
      "epoch 50, train acc 0.9676, test acc 0.9495\n",
      "epoch 51, train acc 0.9676, test acc 0.9500\n",
      "epoch 52, train acc 0.9676, test acc 0.9495\n",
      "epoch 53, train acc 0.9673, test acc 0.9495\n",
      "epoch 54, train acc 0.9673, test acc 0.9490\n",
      "epoch 55, train acc 0.9678, test acc 0.9485\n",
      "epoch 56, train acc 0.9677, test acc 0.9495\n",
      "epoch 57, train acc 0.9677, test acc 0.9490\n",
      "epoch 58, train acc 0.9676, test acc 0.9505\n",
      "epoch 59, train acc 0.9679, test acc 0.9500\n",
      "epoch 60, train acc 0.9677, test acc 0.9480\n",
      "epoch 61, train acc 0.9683, test acc 0.9500\n",
      "epoch 62, train acc 0.9677, test acc 0.9485\n",
      "epoch 63, train acc 0.9683, test acc 0.9505\n",
      "epoch 64, train acc 0.9680, test acc 0.9485\n",
      "epoch 65, train acc 0.9679, test acc 0.9495\n",
      "epoch 66, train acc 0.9681, test acc 0.9490\n",
      "epoch 67, train acc 0.9682, test acc 0.9480\n",
      "epoch 68, train acc 0.9682, test acc 0.9480\n",
      "epoch 69, train acc 0.9682, test acc 0.9485\n",
      "epoch 70, train acc 0.9683, test acc 0.9490\n",
      "epoch 71, train acc 0.9681, test acc 0.9470\n",
      "epoch 72, train acc 0.9683, test acc 0.9515\n",
      "epoch 73, train acc 0.9689, test acc 0.9525\n",
      "epoch 74, train acc 0.9683, test acc 0.9515\n",
      "epoch 75, train acc 0.9684, test acc 0.9520\n",
      "epoch 76, train acc 0.9687, test acc 0.9530\n",
      "epoch 77, train acc 0.9686, test acc 0.9480\n",
      "epoch 78, train acc 0.9686, test acc 0.9520\n",
      "epoch 79, train acc 0.9687, test acc 0.9535\n",
      "epoch 80, train acc 0.9684, test acc 0.9545\n",
      "epoch 81, train acc 0.9684, test acc 0.9540\n",
      "epoch 82, train acc 0.9689, test acc 0.9540\n",
      "epoch 83, train acc 0.9694, test acc 0.9550\n",
      "epoch 84, train acc 0.9686, test acc 0.9520\n",
      "epoch 85, train acc 0.9686, test acc 0.9520\n",
      "epoch 86, train acc 0.9691, test acc 0.9520\n",
      "epoch 87, train acc 0.9688, test acc 0.9525\n",
      "epoch 88, train acc 0.9685, test acc 0.9515\n",
      "epoch 89, train acc 0.9691, test acc 0.9530\n",
      "epoch 90, train acc 0.9692, test acc 0.9535\n",
      "epoch 91, train acc 0.9686, test acc 0.9520\n",
      "epoch 92, train acc 0.9694, test acc 0.9520\n",
      "epoch 93, train acc 0.9692, test acc 0.9510\n",
      "epoch 94, train acc 0.9692, test acc 0.9520\n",
      "epoch 95, train acc 0.9689, test acc 0.9515\n",
      "epoch 96, train acc 0.9691, test acc 0.9515\n",
      "epoch 97, train acc 0.9690, test acc 0.9530\n",
      "epoch 98, train acc 0.9688, test acc 0.9520\n",
      "epoch 99, train acc 0.9690, test acc 0.9535\n",
      "epoch 100, train acc 0.9691, test acc 0.9530\n"
     ]
    }
   ],
   "source": [
    "####################################################################################################\n",
    "# enter code here to initialize and train the model\n",
    "model1 = SimpleFeedbackLearning()\n",
    "model1.train(x_train, y_train, x_test, y_test, learning_rate=0.01, n_iters=100)\n",
    "####################################################################################################\n"
   ]
  },
  {
   "cell_type": "code",
   "execution_count": 10,
   "id": "5f96a63c",
   "metadata": {},
   "outputs": [
    {
     "data": {
      "image/png": "[encoded data removed]",
      "text/plain": [
       "<Figure size 640x480 with 1 Axes>"
      ]
     },
     "metadata": {},
     "output_type": "display_data"
    }
   ],
   "source": [
    "# plot the accuracy\n",
    "plt.plot(model1.history['train_acc'], label='train_acc')\n",
    "plt.plot(model1.history['test_acc'], label='test_acc')\n",
    "plt.legend()\n",
    "plt.show()"
   ]
  },
  {
   "cell_type": "code",
   "execution_count": 11,
   "id": "49b42d82",
   "metadata": {},
   "outputs": [
    {
     "name": "stdout",
     "output_type": "stream",
     "text": [
      "Training Data:\n",
      "Confusion Matrix:\n",
      " [[6870  127]\n",
      " [ 341 8635]]\n",
      "Accuracy:  0.9690625\n",
      "Recall:  0.9527111357648038\n",
      "Precision:  0.9818493640131485\n",
      "F1 Score:  0.9670608108108109 \n",
      "\n",
      "Testing Data:\n",
      "Confusion Matrix:\n",
      " [[ 862   36]\n",
      " [  52 1044]]\n",
      "Accuracy:  0.953\n",
      "Recall:  0.9431072210065645\n",
      "Precision:  0.9599109131403119\n",
      "F1 Score:  0.9514348785871964\n"
     ]
    }
   ],
   "source": [
    "####################################################################################################\n",
    "# enter code here to evaluate the model with the evaluator function\n",
    "y_pred_train = model1.predict(x_train)\n",
    "confusion_matrix_train, accuracy_train, recall_train, precision_train, f1_score_train = evaluator(y_train, y_pred_train)\n",
    "print('Training Data:')\n",
    "print('Confusion Matrix:\\n', confusion_matrix_train)\n",
    "print('Accuracy: ', accuracy_train)\n",
    "print('Recall: ', recall_train)\n",
    "print('Precision: ', precision_train)\n",
    "print('F1 Score: ', f1_score_train, '\\n')\n",
    "\n",
    "# Evaluate testing data\n",
    "y_pred_test = model1.predict(x_test)\n",
    "confusion_matrix_test, accuracy_test, recall_test, precision_test, f1_score_test = evaluator(y_test, y_pred_test)\n",
    "print('Testing Data:')\n",
    "print('Confusion Matrix:\\n', confusion_matrix_test)\n",
    "print('Accuracy: ', accuracy_test)\n",
    "print('Recall: ', recall_test)\n",
    "print('Precision: ', precision_test)\n",
    "print('F1 Score: ', f1_score_test)\n",
    "\n",
    "####################################################################################################"
   ]
  }
 ],
 "metadata": {
  "kernelspec": {
   "display_name": "Python 3",
   "language": "python",
   "name": "python3"
  },
  "language_info": {
   "codemirror_mode": {
    "name": "ipython",
    "version": 3
   },
   "file_extension": ".py",
   "mimetype": "text/x-python",
   "name": "python",
   "nbconvert_exporter": "python",
   "pygments_lexer": "ipython3",
   "version": "3.9.16"
  },
  "papermill": {
   "default_parameters": {},
   "duration": 94.692615,
   "end_time": "2021-07-30T15:56:50.140202",
   "environment_variables": {},
   "exception": null,
   "input_path": "__notebook__.ipynb",
   "output_path": "__notebook__.ipynb",
   "parameters": {},
   "start_time": "2021-07-30T15:55:15.447587",
   "version": "2.3.3"
  }
 },
 "nbformat": 4,
 "nbformat_minor": 5
}
