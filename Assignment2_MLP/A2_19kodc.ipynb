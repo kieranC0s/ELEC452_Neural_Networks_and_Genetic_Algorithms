{
 "cells": [
  {
   "cell_type": "markdown",
   "id": "cf798513",
   "metadata": {
    "id": "cf798513"
   },
   "source": [
    "# CISC/CMPE 452/COGS 400 Assignment 2 - Backpropagation (15 points)  \n",
    "\n",
    "Please put your name and student id here\n",
    "\n",
    "    Kieran Cosgrove, #20226841\n",
    "\n",
    "- The notebook file has clearly marked blocks where you are expected to write code. Do not write or modify any code outside of these blocks.\n",
    "- Make sure to restart and run all the cells from the beginning before submission. Do not clear out the outputs. You will only get credit for code that has been run.\n",
    "- Mark will be deducted based on late policy (-1% of the course total marks per day after due date until the end date after which no assignments will be accepted)\n"
   ]
  },
  {
   "cell_type": "markdown",
   "id": "VRLNrFDU3dKp",
   "metadata": {
    "id": "VRLNrFDU3dKp"
   },
   "source": [
    "## [Part 1 (9 points)](#Part-1)  \n",
    "\n",
    "### Build Model1 (7 points)  \n",
    "Use Pytorch to implement a three-layer Neural Network (input layer - hidden layer - output layer) and update the weights with backpropagation  \n",
    "- 1. Implement forward and calculate the output (1 point)  \n",
    "- 2. Calculate errors and loss (3 points)  \n",
    "- 3. Update the weights with backpropagation (1 points)  \n",
    "- 4. Predict function (1 point)  \n",
    "- 5. Activation function (Sigmoid function) (1 point)  \n",
    "\n",
    "### Evaluator Function (1 point)  \n",
    "Implement the evaluator function with Pytorch or Numpy only   \n",
    "- Evaluation metrics include confusion matrix, accuracy, recall score, precision and F1 score\n",
    "\n",
    "### Train and Evaluate Model1 (1 point)  \n",
    "Train Model1 with customized hidden size, learning rate, number of iterations and batch size  \n",
    "Use the predict function to predict the labels with the test dataset  \n",
    "Evaluate the prediction results  \n",
    "- Evaluation metrics include confusion matrix, accuracy, recall score, precision and F1 score\n",
    "\n",
    "## [Part 2 (6 points)](#Part-2)  \n",
    "\n",
    "Use another machine learning framework (**scikit-learn, Tensorflow and Pytorch**) to build MLP\n",
    "e.g. \n",
    "  1. https://scikit-learn.org/stable/modules/generated/sklearn.neural_network.MLPClassifier.html\n",
    "  2. https://www.tensorflow.org/api_docs/python/tf/keras/Sequential\n",
    "  3. https://pytorch.org/tutorials/beginner/examples_nn/polynomial_nn.html#sphx-glr-beginner-examples-nn-polynomial-nn-py\n",
    "  \n",
    "### Build Model2-1 (2 points)  \n",
    "Implement Model2-1 with the same hidden nodes and optimization function as the model in Part 1  \n",
    "Train and validate model. Use the best model on validation dataset to test on the test dataset  \n",
    "\n",
    "### Train and Evaluate Model2-1 (1 point)\n",
    "Evaluate the prediction results  \n",
    "- Evaluation metrics include confusion matrix, accuracy, recall score, precision and F1 score\n",
    "\n",
    "### Build Model2-2 (2 points)  \n",
    "Add one more hidden layer (2 hidden layers in total) to the model  \n",
    "Describe Model2-2 (number of hidden nodes)  \n",
    "Train and validate model. Use the best model on validation dataset to test on the test dataset  \n",
    "\n",
    "### Train and Evaluate Model2-2 (1 point)\n",
    "Evaluate the prediction results  \n",
    "- Evaluation metrics include confusion matrix, accuracy, recall score, precision and F1 score"
   ]
  },
  {
   "cell_type": "code",
   "execution_count": 1,
   "id": "b7e6a263",
   "metadata": {
    "id": "b7e6a263"
   },
   "outputs": [],
   "source": [
    "import torch\n",
    "import numpy as np\n",
    "import matplotlib.pyplot as plt\n",
    "from torchvision.datasets import MNIST"
   ]
  },
  {
   "cell_type": "code",
   "execution_count": 2,
   "id": "eKE_KANU7_sq",
   "metadata": {
    "colab": {
     "base_uri": "https://localhost:8080/"
    },
    "id": "eKE_KANU7_sq",
    "outputId": "946cd1ab-22bd-4efa-c734-faab97e6f40d"
   },
   "outputs": [
    {
     "data": {
      "text/plain": [
       "device(type='cpu')"
      ]
     },
     "execution_count": 2,
     "metadata": {},
     "output_type": "execute_result"
    }
   ],
   "source": [
    "# you can go to Edit - Notebook settings to select GPU under the Hardware accelerator\n",
    "# check the device\n",
    "device = torch.device('cuda' if torch.cuda.is_available() else 'cpu')\n",
    "device"
   ]
  },
  {
   "cell_type": "code",
   "execution_count": 3,
   "id": "9a5cbc46",
   "metadata": {
    "id": "9a5cbc46"
   },
   "outputs": [],
   "source": [
    "# build the dataset (train, validation and test)\n",
    "def load_MNIST(n_val=10000, n_sample=1000, sample=False):\n",
    "    n_val = n_val\n",
    "    n_sample = n_sample\n",
    "    train = MNIST(root = '.', train = True, download = True)\n",
    "    test = MNIST(root = '.', train = False, download = True)\n",
    "    \n",
    "    # data preprocessing\n",
    "    x_train, x_test = train.data/255, test.data/255\n",
    "    x_train = x_train.reshape(x_train.shape[0], -1)\n",
    "    x_test = x_test.reshape(x_test.shape[0], -1)\n",
    "    y_train = torch.nn.functional.one_hot(train.targets)\n",
    "    y_test = torch.nn.functional.one_hot(test.targets)\n",
    "\n",
    "    data_dict = {}\n",
    "    if sample:\n",
    "        data_dict['x_train'] = x_train[:-n_val][:n_sample]\n",
    "        data_dict['y_train'] = y_train[:-n_val][:n_sample]\n",
    "        data_dict['x_val'] = x_train[-n_val:][:n_sample//10]\n",
    "        data_dict['y_val'] = y_train[-n_val:][:n_sample//10]\n",
    "        data_dict['x_test'] = x_test[:n_sample//10]\n",
    "        data_dict['y_test'] = y_test[:n_sample//10]\n",
    "    else:\n",
    "        data_dict['x_train'] = x_train[:-n_val]\n",
    "        data_dict['y_train'] = y_train[:-n_val]\n",
    "        data_dict['x_val'] = x_train[-n_val:]\n",
    "        data_dict['y_val'] = y_train[-n_val:]\n",
    "        data_dict['x_test'] = x_test\n",
    "        data_dict['y_test'] = y_test\n",
    "    return data_dict"
   ]
  },
  {
   "cell_type": "code",
   "execution_count": 4,
   "id": "Q5G-vmpD21Bj",
   "metadata": {
    "colab": {
     "base_uri": "https://localhost:8080/",
     "height": 573
    },
    "id": "Q5G-vmpD21Bj",
    "outputId": "f053f294-9aad-4097-f75e-aaed70dd050e"
   },
   "outputs": [
    {
     "name": "stdout",
     "output_type": "stream",
     "text": [
      "Train data shape: torch.Size([50000, 784])\n",
      "Train labels shape: torch.Size([50000, 10])\n",
      "Validation data shape: torch.Size([10000, 784])\n",
      "Validation labels shape: torch.Size([10000, 10])\n",
      "Test data shape: torch.Size([10000, 784])\n",
      "Test labels shape: torch.Size([10000, 10])\n"
     ]
    }
   ],
   "source": [
    "# you can start with a small sample dataset by setting sample=True\n",
    "data_dict = load_MNIST(sample=False)\n",
    "print('Train data shape:', data_dict['x_train'].shape)\n",
    "print('Train labels shape:', data_dict['y_train'].shape)\n",
    "print('Validation data shape:', data_dict['x_val'].shape)\n",
    "print('Validation labels shape:', data_dict['y_val'].shape)\n",
    "print('Test data shape:', data_dict['x_test'].shape)\n",
    "print('Test labels shape:', data_dict['y_test'].shape)"
   ]
  },
  {
   "cell_type": "code",
   "execution_count": 5,
   "id": "1aa9f016",
   "metadata": {
    "colab": {
     "base_uri": "https://localhost:8080/",
     "height": 281
    },
    "id": "1aa9f016",
    "outputId": "83a4195e-8fb9-4850-8a9a-7c3bbc2bb623",
    "scrolled": false
   },
   "outputs": [
    {
     "data": {
      "image/png": "[encoded data removed]",
      "text/plain": [
       "<Figure size 640x480 with 1 Axes>"
      ]
     },
     "metadata": {},
     "output_type": "display_data"
    }
   ],
   "source": [
    "# plot an example\n",
    "plt.imshow(data_dict['x_train'][0].reshape(28, 28))\n",
    "plt.title(data_dict['y_train'][0].argmax().item())\n",
    "plt.show()"
   ]
  },
  {
   "cell_type": "code",
   "execution_count": 6,
   "id": "4e3dff47",
   "metadata": {},
   "outputs": [],
   "source": [
    "def evaluator(y_test, y_pred):\n",
    "  def confusion_matrix(y_test, y_pred):\n",
    "    K = len(np.unique(y_test)) # Number of classes \n",
    "    result = np.zeros((K, K))\n",
    "\n",
    "    for i in range(len(y_test)):\n",
    "        result[y_test[i]][y_pred[i]] += 1\n",
    "\n",
    "    return result\n",
    "\n",
    "  def accuracy_score(y_test, y_pred):\n",
    "    correct = sum(y_test == y_pred)\n",
    "    total =  len(y_test)\n",
    "    return correct / total\n",
    "\n",
    "  def precision_score(y_test, y_pred):\n",
    "    cm = confusion_matrix(y_test, y_pred)\n",
    "    return np.diag(cm) / np.sum(cm, axis = 0)\n",
    "\n",
    "  def recall_score(y_test, y_pred):\n",
    "    cm = confusion_matrix(y_test, y_pred)\n",
    "    return np.diag(cm) / np.sum(cm, axis = 1)\n",
    "\n",
    "  def f1_score(y_test, y_pred):\n",
    "    precision = precision_score(y_test, y_pred)\n",
    "    recall = recall_score(y_test, y_pred)\n",
    "    return 2 * (precision * recall) / (precision + recall)\n",
    "\n",
    "  cm = confusion_matrix(y_test, y_pred).astype(int)\n",
    "  print('Confusion matrix:')\n",
    "  print(cm)\n",
    "\n",
    "  print()\n",
    "  print('Accuracy: %.5f' %accuracy_score(y_test, y_pred))\n",
    "  print('Precision: %.5f' %np.mean(precision_score(y_test, y_pred)))\n",
    "  print('Recall: %.5f' %np.mean(recall_score(y_test, y_pred)))\n",
    "  print('F1: %.5f' %np.mean(f1_score(y_test, y_pred)))"
   ]
  },
  {
   "cell_type": "markdown",
   "id": "4e4a6b06",
   "metadata": {
    "id": "4e4a6b06"
   },
   "source": [
    "## Part 1"
   ]
  },
  {
   "cell_type": "code",
   "execution_count": 7,
   "id": "a0d3fc2d",
   "metadata": {
    "id": "a0d3fc2d"
   },
   "outputs": [],
   "source": [
    "class NN(object):\n",
    "    def __init__(self, learning_rate, n_iters, batch_size, hidden_size, device, dtype=torch.float32):\n",
    "        self.learning_rate = learning_rate\n",
    "        self.n_iters = n_iters\n",
    "        self.batch_size = batch_size\n",
    "        self.hidden_size = hidden_size\n",
    "        self.device = device\n",
    "        self.dtype = dtype\n",
    "        self.history = {}\n",
    "        self.history['train_acc'], self.history['val_acc'], self.history['loss'] = [], [], []\n",
    "    \n",
    "    # 5. activation function\n",
    "    def sigmoid(self, x):\n",
    "        ####################################################################################################\n",
    "        # enter code here to implement the activation function\n",
    "        return 1 / (1 + torch.exp(-x))\n",
    "        ####################################################################################################\n",
    "\n",
    "    def train(self, x, y, x_val, y_val, verbose=1):\n",
    "        n_train = x.shape[0]\n",
    "        n_val = x_val.shape[0]\n",
    "        input_size = x.shape[1]\n",
    "        num_classes = y.shape[1]\n",
    "        \n",
    "        # weight initialization\n",
    "        self.W1 = torch.randn(input_size, self.hidden_size, dtype=self.dtype, device=self.device) * 0.01\n",
    "        self.W2 = torch.randn(self.hidden_size, num_classes, dtype=self.dtype, device=self.device) * 0.01\n",
    "\n",
    "        # TODO: train the weights with the input data and labels\n",
    "        for i in range(self.n_iters):\n",
    "            loss = 0\n",
    "            data = getBatch(x, y, self.batch_size)\n",
    "            for x_batch, y_batch in data:\n",
    "                # 1. forward\n",
    "                ####################################################################################################\n",
    "                # enter code here to calculate the hidden layer output and output layer output\n",
    "                hidden = self.sigmoid(torch.matmul(x_batch, self.W1)) # (batch_size, hidden_size)\n",
    "                output = self.sigmoid(torch.matmul(hidden, self.W2)) # \n",
    "                ####################################################################################################\n",
    "\n",
    "                # 2. error and loss\n",
    "                ####################################################################################################\n",
    "                # enter code here to calculate the output error, MSE loss, delta output and delta hidden\n",
    "                output_error = y_batch - output # deviation from the true label\n",
    "                loss += torch.mean(torch.square(output_error)) # MSE loss\n",
    "                delta_output = output_error * output * (1 - output) # computing the derivative of the error with respect to the output\n",
    "                delta_hidden = torch.matmul(delta_output, self.W2.T) * hidden * (1 - hidden) # propogating the changes to the hidden layer\n",
    "                ####################################################################################################\n",
    "\n",
    "                # 3. backward\n",
    "                ####################################################################################################\n",
    "                # enter code here to calculate delta weights and update the weights\n",
    "                dw2 = self.learning_rate * torch.matmul(hidden.T, delta_output) # how much we need to change W2 to minimize the loss\n",
    "                dw1 = self.learning_rate * torch.matmul(x_batch.T, delta_hidden) # how much we need to change W1 to minimize the loss\n",
    "                \n",
    "                # Update the weights\n",
    "                self.W1 += dw1\n",
    "                self.W2 += dw2  \n",
    "                \n",
    "                ####################################################################################################\n",
    "\n",
    "            # calculate the accuracy and save the training history\n",
    "            y_pred = self.predict(x)\n",
    "            train_acc = torch.sum(torch.argmax(y, dim=1) == y_pred) / n_train\n",
    "            self.history['train_acc'].append(train_acc)\n",
    "            self.history['loss'].append(loss)\n",
    "            \n",
    "            y_pred = self.predict(x_val)\n",
    "            val_acc = torch.sum(torch.argmax(y_val, dim=1) == y_pred) / n_val\n",
    "            self.history['val_acc'].append(val_acc)\n",
    "            if verbose:\n",
    "                print('epoch %d, loss %.4f, train acc %.3f, validation acc %.3f'% (i + 1, loss, train_acc, val_acc))\n",
    "    \n",
    "    # 4. predict function \n",
    "    def predict(self, x):\n",
    "        ####################################################################################################\n",
    "        # enter code here to implement the predict function\n",
    "        # TODO: use the trained weights to predict labels and return the predicted labels\n",
    "        # remember to use torch.argmax() to return the true labels\n",
    "        hidden = self.sigmoid(torch.matmul(x, self.W1))\n",
    "        y_pred = self.sigmoid(torch.matmul(hidden, self.W2))\n",
    "        y_pred = torch.argmax(y_pred, dim=1)\n",
    "        \n",
    "        ####################################################################################################\n",
    "        return y_pred\n",
    "\n",
    "def getBatch(x, y, batch_size):\n",
    "    n_epoch = x.shape[0] // batch_size\n",
    "    for i in range(n_epoch):\n",
    "        x_batch = x[i * batch_size : (i+1) * batch_size]\n",
    "        y_batch = y[i * batch_size : (i+1) * batch_size]\n",
    "        yield x_batch, y_batch\n",
    "    x_batch = x[(i+1) * batch_size:]\n",
    "    y_batch = y[(i+1) * batch_size:]    \n",
    "    yield x_batch, y_batch"
   ]
  },
  {
   "cell_type": "code",
   "execution_count": 8,
   "id": "74e9819c",
   "metadata": {
    "colab": {
     "base_uri": "https://localhost:8080/"
    },
    "id": "74e9819c",
    "outputId": "c6b1745f-4e19-4f83-afb7-c22f07062738"
   },
   "outputs": [
    {
     "name": "stdout",
     "output_type": "stream",
     "text": [
      "epoch 1, loss nan, train acc 0.820, validation acc 0.839\n",
      "epoch 2, loss nan, train acc 0.886, validation acc 0.900\n",
      "epoch 3, loss nan, train acc 0.901, validation acc 0.913\n",
      "epoch 4, loss nan, train acc 0.909, validation acc 0.921\n",
      "epoch 5, loss nan, train acc 0.916, validation acc 0.925\n",
      "epoch 6, loss nan, train acc 0.921, validation acc 0.928\n",
      "epoch 7, loss nan, train acc 0.926, validation acc 0.932\n",
      "epoch 8, loss nan, train acc 0.929, validation acc 0.936\n",
      "epoch 9, loss nan, train acc 0.933, validation acc 0.939\n",
      "epoch 10, loss nan, train acc 0.936, validation acc 0.942\n",
      "epoch 11, loss nan, train acc 0.939, validation acc 0.945\n",
      "epoch 12, loss nan, train acc 0.942, validation acc 0.948\n",
      "epoch 13, loss nan, train acc 0.944, validation acc 0.950\n",
      "epoch 14, loss nan, train acc 0.946, validation acc 0.952\n",
      "epoch 15, loss nan, train acc 0.949, validation acc 0.954\n",
      "epoch 16, loss nan, train acc 0.950, validation acc 0.955\n",
      "epoch 17, loss nan, train acc 0.952, validation acc 0.956\n",
      "epoch 18, loss nan, train acc 0.954, validation acc 0.957\n",
      "epoch 19, loss nan, train acc 0.955, validation acc 0.959\n",
      "epoch 20, loss nan, train acc 0.957, validation acc 0.960\n",
      "epoch 21, loss nan, train acc 0.958, validation acc 0.961\n",
      "epoch 22, loss nan, train acc 0.960, validation acc 0.961\n",
      "epoch 23, loss nan, train acc 0.961, validation acc 0.962\n",
      "epoch 24, loss nan, train acc 0.962, validation acc 0.963\n",
      "epoch 25, loss nan, train acc 0.964, validation acc 0.965\n"
     ]
    }
   ],
   "source": [
    "####################################################################################################\n",
    "# enter code here to train Model1\n",
    "# TODO: set your desired hidden size, learning rate, number of iterations and batch size\n",
    "# remeber to load the dataset to the device (e.g. data_dict['x_train'].to(device))\n",
    "model = NN(learning_rate=0.01, n_iters=25, batch_size=100, hidden_size=200, device=device)\n",
    "model.train(data_dict['x_train'].to(device), data_dict['y_train'].to(device), data_dict['x_val'].to(device), data_dict['y_val'].to(device), verbose=1)\n",
    "\n",
    "####################################################################################################"
   ]
  },
  {
   "cell_type": "code",
   "execution_count": 9,
   "id": "bebd0600",
   "metadata": {
    "colab": {
     "base_uri": "https://localhost:8080/",
     "height": 265
    },
    "id": "bebd0600",
    "outputId": "4cf59edb-b5bd-417c-913f-78b5a793189f"
   },
   "outputs": [
    {
     "data": {
      "image/png": "[encoded data removed]",
      "text/plain": [
       "<Figure size 640x480 with 1 Axes>"
      ]
     },
     "metadata": {},
     "output_type": "display_data"
    }
   ],
   "source": [
    "plt.plot(model.history['train_acc'], label='train_acc')\n",
    "plt.plot(model.history['val_acc'], label='val_acc')\n",
    "plt.legend()\n",
    "plt.show()"
   ]
  },
  {
   "cell_type": "code",
   "execution_count": 10,
   "id": "UQciuqY96_6Z",
   "metadata": {
    "colab": {
     "base_uri": "https://localhost:8080/"
    },
    "id": "UQciuqY96_6Z",
    "outputId": "0aff8095-e7a6-4558-f99c-36d2512488f7"
   },
   "outputs": [
    {
     "name": "stdout",
     "output_type": "stream",
     "text": [
      "Confusion matrix:\n",
      "[[ 964    0    1    2    0    3    7    1    2    0]\n",
      " [   0 1115    3    2    0    1    5    2    7    0]\n",
      " [   7    1  987    4    7    0    7    7    9    3]\n",
      " [   0    0    7  978    0    3    3    7    9    3]\n",
      " [   1    1    4    0  930    0   11    3    4   28]\n",
      " [  10    1    1   13    1  835   12    1   12    6]\n",
      " [   7    3    0    1    4    8  930    0    5    0]\n",
      " [   1   11   16    4    3    0    0  976    2   15]\n",
      " [   4    1    2    8    4    4    5    4  939    3]\n",
      " [   7    6    0   12   12    5    1    9    4  953]]\n",
      "\n",
      "Accuracy: 0.96070\n",
      "Precision: 0.96061\n",
      "Recall: 0.96027\n",
      "F1: 0.96035\n"
     ]
    }
   ],
   "source": [
    "####################################################################################################\n",
    "# enter code here to evaluate Model1 with test set\n",
    "# TODO: use the trained Model1 to predict the labels of test set and evaluate the results with the evaluator\n",
    "\n",
    "# It's worth noting that it is a dataset with multi-class labels (0-9).\n",
    "# The evaluator method is designed for binary classification. So accuracy could be skewed.\n",
    "\n",
    "# Use the model to make predictions on the test data\n",
    "y_pred_raw = model.predict(data_dict['x_test'].to(device))\n",
    "\n",
    "# Transfer the predictions back to CPU memory from GPU memory (if applicable) and convert to numpy\n",
    "y_pred = y_pred_raw.cpu()\n",
    "\n",
    "# Extract the actual classes from test labels \n",
    "y_test_classes = data_dict['y_test'].argmax(dim=1)\n",
    "\n",
    "#Call the evaluator function with the correct arguments\n",
    "evaluator(y_test_classes, y_pred)\n",
    "\n",
    "\n",
    "####################################################################################################"
   ]
  },
  {
   "cell_type": "code",
   "execution_count": null,
   "id": "bhkkGjWwxlLJ",
   "metadata": {
    "id": "bhkkGjWwxlLJ"
   },
   "outputs": [],
   "source": []
  },
  {
   "cell_type": "markdown",
   "id": "QG_rb7uJ4XDL",
   "metadata": {
    "id": "QG_rb7uJ4XDL"
   },
   "source": [
    "## Part 2"
   ]
  },
  {
   "cell_type": "markdown",
   "id": "a5c845a9",
   "metadata": {},
   "source": [
    "### Model2-1"
   ]
  },
  {
   "cell_type": "code",
   "execution_count": 11,
   "id": "13519996",
   "metadata": {},
   "outputs": [],
   "source": [
    "####################################################################################################\n",
    "# enter code here to implement Model2-1\n",
    "from sklearn.neural_network import MLPClassifier\n",
    "# from sklearn.metrics import accuracy_score\n",
    "# from sklearn.metrics import confusion_matrix\n",
    "# from sklearn.metrics import precision_score\n",
    "# from sklearn.metrics import recall_score\n",
    "# from sklearn.metrics import f1_score\n",
    "model = MLPClassifier(max_iter=10, hidden_layer_sizes=(100), activation='logistic')\n",
    "####################################################################################################"
   ]
  },
  {
   "cell_type": "code",
   "execution_count": 12,
   "id": "208a8e33",
   "metadata": {},
   "outputs": [
    {
     "name": "stderr",
     "output_type": "stream",
     "text": [
      "/Users/kierancosgrove/opt/anaconda3/envs/CMPE452/lib/python3.9/site-packages/sklearn/neural_network/_multilayer_perceptron.py:691: ConvergenceWarning: Stochastic Optimizer: Maximum iterations (10) reached and the optimization hasn't converged yet.\n",
      "  warnings.warn(\n"
     ]
    },
    {
     "data": {
      "text/html": [
       "<style>#sk-container-id-1 {color: black;}#sk-container-id-1 pre{padding: 0;}#sk-container-id-1 div.sk-toggleable {background-color: white;}#sk-container-id-1 label.sk-toggleable__label {cursor: pointer;display: block;width: 100%;margin-bottom: 0;padding: 0.3em;box-sizing: border-box;text-align: center;}#sk-container-id-1 label.sk-toggleable__label-arrow:before {content: \"▸\";float: left;margin-right: 0.25em;color: #696969;}#sk-container-id-1 label.sk-toggleable__label-arrow:hover:before {color: black;}#sk-container-id-1 div.sk-estimator:hover label.sk-toggleable__label-arrow:before {color: black;}#sk-container-id-1 div.sk-toggleable__content {max-height: 0;max-width: 0;overflow: hidden;text-align: left;background-color: #f0f8ff;}#sk-container-id-1 div.sk-toggleable__content pre {margin: 0.2em;color: black;border-radius: 0.25em;background-color: #f0f8ff;}#sk-container-id-1 input.sk-toggleable__control:checked~div.sk-toggleable__content {max-height: 200px;max-width: 100%;overflow: auto;}#sk-container-id-1 input.sk-toggleable__control:checked~label.sk-toggleable__label-arrow:before {content: \"▾\";}#sk-container-id-1 div.sk-estimator input.sk-toggleable__control:checked~label.sk-toggleable__label {background-color: #d4ebff;}#sk-container-id-1 div.sk-label input.sk-toggleable__control:checked~label.sk-toggleable__label {background-color: #d4ebff;}#sk-container-id-1 input.sk-hidden--visually {border: 0;clip: rect(1px 1px 1px 1px);clip: rect(1px, 1px, 1px, 1px);height: 1px;margin: -1px;overflow: hidden;padding: 0;position: absolute;width: 1px;}#sk-container-id-1 div.sk-estimator {font-family: monospace;background-color: #f0f8ff;border: 1px dotted black;border-radius: 0.25em;box-sizing: border-box;margin-bottom: 0.5em;}#sk-container-id-1 div.sk-estimator:hover {background-color: #d4ebff;}#sk-container-id-1 div.sk-parallel-item::after {content: \"\";width: 100%;border-bottom: 1px solid gray;flex-grow: 1;}#sk-container-id-1 div.sk-label:hover label.sk-toggleable__label {background-color: #d4ebff;}#sk-container-id-1 div.sk-serial::before {content: \"\";position: absolute;border-left: 1px solid gray;box-sizing: border-box;top: 0;bottom: 0;left: 50%;z-index: 0;}#sk-container-id-1 div.sk-serial {display: flex;flex-direction: column;align-items: center;background-color: white;padding-right: 0.2em;padding-left: 0.2em;position: relative;}#sk-container-id-1 div.sk-item {position: relative;z-index: 1;}#sk-container-id-1 div.sk-parallel {display: flex;align-items: stretch;justify-content: center;background-color: white;position: relative;}#sk-container-id-1 div.sk-item::before, #sk-container-id-1 div.sk-parallel-item::before {content: \"\";position: absolute;border-left: 1px solid gray;box-sizing: border-box;top: 0;bottom: 0;left: 50%;z-index: -1;}#sk-container-id-1 div.sk-parallel-item {display: flex;flex-direction: column;z-index: 1;position: relative;background-color: white;}#sk-container-id-1 div.sk-parallel-item:first-child::after {align-self: flex-end;width: 50%;}#sk-container-id-1 div.sk-parallel-item:last-child::after {align-self: flex-start;width: 50%;}#sk-container-id-1 div.sk-parallel-item:only-child::after {width: 0;}#sk-container-id-1 div.sk-dashed-wrapped {border: 1px dashed gray;margin: 0 0.4em 0.5em 0.4em;box-sizing: border-box;padding-bottom: 0.4em;background-color: white;}#sk-container-id-1 div.sk-label label {font-family: monospace;font-weight: bold;display: inline-block;line-height: 1.2em;}#sk-container-id-1 div.sk-label-container {text-align: center;}#sk-container-id-1 div.sk-container {/* jupyter's `normalize.less` sets `[hidden] { display: none; }` but bootstrap.min.css set `[hidden] { display: none !important; }` so we also need the `!important` here to be able to override the default hidden behavior on the sphinx rendered scikit-learn.org. See: https://github.com/scikit-learn/scikit-learn/issues/21755 */display: inline-block !important;position: relative;}#sk-container-id-1 div.sk-text-repr-fallback {display: none;}</style><div id=\"sk-container-id-1\" class=\"sk-top-container\"><div class=\"sk-text-repr-fallback\"><pre>MLPClassifier(activation=&#x27;logistic&#x27;, hidden_layer_sizes=100, max_iter=10)</pre><b>In a Jupyter environment, please rerun this cell to show the HTML representation or trust the notebook. <br />On GitHub, the HTML representation is unable to render, please try loading this page with nbviewer.org.</b></div><div class=\"sk-container\" hidden><div class=\"sk-item\"><div class=\"sk-estimator sk-toggleable\"><input class=\"sk-toggleable__control sk-hidden--visually\" id=\"sk-estimator-id-1\" type=\"checkbox\" checked><label for=\"sk-estimator-id-1\" class=\"sk-toggleable__label sk-toggleable__label-arrow\">MLPClassifier</label><div class=\"sk-toggleable__content\"><pre>MLPClassifier(activation=&#x27;logistic&#x27;, hidden_layer_sizes=100, max_iter=10)</pre></div></div></div></div></div>"
      ],
      "text/plain": [
       "MLPClassifier(activation='logistic', hidden_layer_sizes=100, max_iter=10)"
      ]
     },
     "execution_count": 12,
     "metadata": {},
     "output_type": "execute_result"
    }
   ],
   "source": [
    "####################################################################################################\n",
    "# enter code here to train Model2-1\n",
    "model.fit(data_dict['x_train'], data_dict['y_train'].argmax(dim=1))\n",
    "####################################################################################################"
   ]
  },
  {
   "cell_type": "code",
   "execution_count": 13,
   "id": "f61594f0",
   "metadata": {},
   "outputs": [
    {
     "name": "stdout",
     "output_type": "stream",
     "text": [
      "Confusion matrix:\n",
      "[[ 963    0    1    2    0    3    7    2    2    0]\n",
      " [   0 1119    3    1    1    1    3    2    5    0]\n",
      " [   4    1  991    6    5    1    4    8   10    2]\n",
      " [   0    0    8  967    0    9    0   11   11    4]\n",
      " [   1    0    6    1  941    0    6    1    3   23]\n",
      " [   6    1    3   28    2  825    8    1   11    7]\n",
      " [   6    3    2    2    6    6  928    0    5    0]\n",
      " [   0    8   22    7    2    0    0  969    0   20]\n",
      " [   3    4    4   16    6    5    6    8  918    4]\n",
      " [   6    7    1   13   16    7    1    9    2  947]]\n",
      "\n",
      "Accuracy: 0.95680\n",
      "Precision: 0.95675\n",
      "Recall: 0.95617\n",
      "F1: 0.95639\n"
     ]
    }
   ],
   "source": [
    "####################################################################################################\n",
    "# enter code here to evaluate Model2-1\n",
    "y_pred = model.predict(data_dict['x_test'])\n",
    "evaluator(data_dict['y_test'].argmax(dim=1), torch.tensor(y_pred))\n",
    "\n",
    "####################################################################################################"
   ]
  },
  {
   "cell_type": "markdown",
   "id": "c4a9243f",
   "metadata": {},
   "source": [
    "### Model2-2"
   ]
  },
  {
   "cell_type": "code",
   "execution_count": 14,
   "id": "0eaf38a5",
   "metadata": {},
   "outputs": [],
   "source": [
    "####################################################################################################\n",
    "# enter code here to implement Model2-2\n",
    "from sklearn.neural_network import MLPClassifier\n",
    "model = MLPClassifier(max_iter=10, hidden_layer_sizes=(100, 100), activation='logistic')\n",
    "\n",
    "####################################################################################################"
   ]
  },
  {
   "cell_type": "code",
   "execution_count": 15,
   "id": "090300ae",
   "metadata": {},
   "outputs": [
    {
     "name": "stderr",
     "output_type": "stream",
     "text": [
      "/Users/kierancosgrove/opt/anaconda3/envs/CMPE452/lib/python3.9/site-packages/sklearn/neural_network/_multilayer_perceptron.py:691: ConvergenceWarning: Stochastic Optimizer: Maximum iterations (10) reached and the optimization hasn't converged yet.\n",
      "  warnings.warn(\n"
     ]
    },
    {
     "data": {
      "text/html": [
       "<style>#sk-container-id-2 {color: black;}#sk-container-id-2 pre{padding: 0;}#sk-container-id-2 div.sk-toggleable {background-color: white;}#sk-container-id-2 label.sk-toggleable__label {cursor: pointer;display: block;width: 100%;margin-bottom: 0;padding: 0.3em;box-sizing: border-box;text-align: center;}#sk-container-id-2 label.sk-toggleable__label-arrow:before {content: \"▸\";float: left;margin-right: 0.25em;color: #696969;}#sk-container-id-2 label.sk-toggleable__label-arrow:hover:before {color: black;}#sk-container-id-2 div.sk-estimator:hover label.sk-toggleable__label-arrow:before {color: black;}#sk-container-id-2 div.sk-toggleable__content {max-height: 0;max-width: 0;overflow: hidden;text-align: left;background-color: #f0f8ff;}#sk-container-id-2 div.sk-toggleable__content pre {margin: 0.2em;color: black;border-radius: 0.25em;background-color: #f0f8ff;}#sk-container-id-2 input.sk-toggleable__control:checked~div.sk-toggleable__content {max-height: 200px;max-width: 100%;overflow: auto;}#sk-container-id-2 input.sk-toggleable__control:checked~label.sk-toggleable__label-arrow:before {content: \"▾\";}#sk-container-id-2 div.sk-estimator input.sk-toggleable__control:checked~label.sk-toggleable__label {background-color: #d4ebff;}#sk-container-id-2 div.sk-label input.sk-toggleable__control:checked~label.sk-toggleable__label {background-color: #d4ebff;}#sk-container-id-2 input.sk-hidden--visually {border: 0;clip: rect(1px 1px 1px 1px);clip: rect(1px, 1px, 1px, 1px);height: 1px;margin: -1px;overflow: hidden;padding: 0;position: absolute;width: 1px;}#sk-container-id-2 div.sk-estimator {font-family: monospace;background-color: #f0f8ff;border: 1px dotted black;border-radius: 0.25em;box-sizing: border-box;margin-bottom: 0.5em;}#sk-container-id-2 div.sk-estimator:hover {background-color: #d4ebff;}#sk-container-id-2 div.sk-parallel-item::after {content: \"\";width: 100%;border-bottom: 1px solid gray;flex-grow: 1;}#sk-container-id-2 div.sk-label:hover label.sk-toggleable__label {background-color: #d4ebff;}#sk-container-id-2 div.sk-serial::before {content: \"\";position: absolute;border-left: 1px solid gray;box-sizing: border-box;top: 0;bottom: 0;left: 50%;z-index: 0;}#sk-container-id-2 div.sk-serial {display: flex;flex-direction: column;align-items: center;background-color: white;padding-right: 0.2em;padding-left: 0.2em;position: relative;}#sk-container-id-2 div.sk-item {position: relative;z-index: 1;}#sk-container-id-2 div.sk-parallel {display: flex;align-items: stretch;justify-content: center;background-color: white;position: relative;}#sk-container-id-2 div.sk-item::before, #sk-container-id-2 div.sk-parallel-item::before {content: \"\";position: absolute;border-left: 1px solid gray;box-sizing: border-box;top: 0;bottom: 0;left: 50%;z-index: -1;}#sk-container-id-2 div.sk-parallel-item {display: flex;flex-direction: column;z-index: 1;position: relative;background-color: white;}#sk-container-id-2 div.sk-parallel-item:first-child::after {align-self: flex-end;width: 50%;}#sk-container-id-2 div.sk-parallel-item:last-child::after {align-self: flex-start;width: 50%;}#sk-container-id-2 div.sk-parallel-item:only-child::after {width: 0;}#sk-container-id-2 div.sk-dashed-wrapped {border: 1px dashed gray;margin: 0 0.4em 0.5em 0.4em;box-sizing: border-box;padding-bottom: 0.4em;background-color: white;}#sk-container-id-2 div.sk-label label {font-family: monospace;font-weight: bold;display: inline-block;line-height: 1.2em;}#sk-container-id-2 div.sk-label-container {text-align: center;}#sk-container-id-2 div.sk-container {/* jupyter's `normalize.less` sets `[hidden] { display: none; }` but bootstrap.min.css set `[hidden] { display: none !important; }` so we also need the `!important` here to be able to override the default hidden behavior on the sphinx rendered scikit-learn.org. See: https://github.com/scikit-learn/scikit-learn/issues/21755 */display: inline-block !important;position: relative;}#sk-container-id-2 div.sk-text-repr-fallback {display: none;}</style><div id=\"sk-container-id-2\" class=\"sk-top-container\"><div class=\"sk-text-repr-fallback\"><pre>MLPClassifier(activation=&#x27;logistic&#x27;, hidden_layer_sizes=(100, 100), max_iter=10)</pre><b>In a Jupyter environment, please rerun this cell to show the HTML representation or trust the notebook. <br />On GitHub, the HTML representation is unable to render, please try loading this page with nbviewer.org.</b></div><div class=\"sk-container\" hidden><div class=\"sk-item\"><div class=\"sk-estimator sk-toggleable\"><input class=\"sk-toggleable__control sk-hidden--visually\" id=\"sk-estimator-id-2\" type=\"checkbox\" checked><label for=\"sk-estimator-id-2\" class=\"sk-toggleable__label sk-toggleable__label-arrow\">MLPClassifier</label><div class=\"sk-toggleable__content\"><pre>MLPClassifier(activation=&#x27;logistic&#x27;, hidden_layer_sizes=(100, 100), max_iter=10)</pre></div></div></div></div></div>"
      ],
      "text/plain": [
       "MLPClassifier(activation='logistic', hidden_layer_sizes=(100, 100), max_iter=10)"
      ]
     },
     "execution_count": 15,
     "metadata": {},
     "output_type": "execute_result"
    }
   ],
   "source": [
    "####################################################################################################\n",
    "# enter code here to train Model2-2\n",
    "model.fit(data_dict['x_train'], data_dict['y_train'].argmax(dim=1))\n",
    "####################################################################################################"
   ]
  },
  {
   "cell_type": "code",
   "execution_count": 16,
   "id": "ca87daf8",
   "metadata": {},
   "outputs": [
    {
     "name": "stdout",
     "output_type": "stream",
     "text": [
      "Confusion matrix:\n",
      "[[ 967    0    3    2    0    5    2    1    0    0]\n",
      " [   0 1119    2    1    0    1    4    2    6    0]\n",
      " [   4    3 1001    2    3    1    4    7    7    0]\n",
      " [   0    1    7  979    0    8    0    8    6    1]\n",
      " [   0    1    5    0  945    0    8    4    2   17]\n",
      " [   3    2    0    9    2  858    8    2    4    4]\n",
      " [   8    4    1    1    5    9  925    0    5    0]\n",
      " [   1    8   13    7    0    1    0  989    2    7]\n",
      " [   4    3    5    8    3    7    4    6  931    3]\n",
      " [   4    6    0   11   18   10    1   10    1  948]]\n",
      "\n",
      "Accuracy: 0.96620\n",
      "Precision: 0.96598\n",
      "Recall: 0.96591\n",
      "F1: 0.96591\n"
     ]
    }
   ],
   "source": [
    "####################################################################################################\n",
    "# enter code here to evaluate Model2-2\n",
    "y_pred = model.predict(data_dict['x_test'])\n",
    "evaluator(data_dict['y_test'].argmax(dim=1), torch.tensor(y_pred))\n",
    "####################################################################################################"
   ]
  }
 ],
 "metadata": {
  "accelerator": "GPU",
  "colab": {
   "collapsed_sections": [],
   "name": "A2_solution.ipynb",
   "provenance": []
  },
  "kernelspec": {
   "display_name": "Python 3.8.9 64-bit",
   "language": "python",
   "name": "python3"
  },
  "language_info": {
   "codemirror_mode": {
    "name": "ipython",
    "version": 3
   },
   "file_extension": ".py",
   "mimetype": "text/x-python",
   "name": "python",
   "nbconvert_exporter": "python",
   "pygments_lexer": "ipython3",
   "version": "3.9.18"
  },
  "vscode": {
   "interpreter": {
    "hash": "31f2aee4e71d21fbe5cf8b01ff0e069b9275f58929596ceb00d14d90e3e16cd6"
   }
  }
 },
 "nbformat": 4,
 "nbformat_minor": 5
}
