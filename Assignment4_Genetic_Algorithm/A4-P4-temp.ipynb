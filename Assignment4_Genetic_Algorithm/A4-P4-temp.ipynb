{
 "cells": [
  {
   "cell_type": "markdown",
   "metadata": {},
   "source": [
    "# Kieran Cosgrove | 20226841"
   ]
  },
  {
   "cell_type": "markdown",
   "metadata": {},
   "source": [
    "GA- Programming – 4 points - Implement a simple GA with fitness-proportional selection, roulette-wheel sampling, population size 100, \n",
    "single-point crossover rate pc = 0.7, and bitwise mutation rate pm = 0.001. Try it on the following fitness function: f(x)=numberofonesin x,\n",
    "wherexisabinarychromosomeoflength20.Perform20 runs, and measure the average generation at which the string of all ones is discovered. \n",
    "Perform the same experiment with crossover turned off (i.e. pc = 0). Do similar ex- periments, varying the mutation and crossover rates, \n",
    "to see how the variations affect the average time required for the GA to find the optimal string. If it turns out that mutation with crossover \n",
    "is better than mutation alone, why is this the case?"
   ]
  },
  {
   "cell_type": "code",
   "execution_count": 3,
   "metadata": {},
   "outputs": [
    {
     "name": "stdout",
     "output_type": "stream",
     "text": [
      "Mutation Rate: 0.001, Crossover Rate: 0.7, Average Generations: 26.9\n",
      "Mutation Rate: 0.001, Crossover Rate: 0.5, Average Generations: 47.75\n",
      "Mutation Rate: 0.001, Crossover Rate: 0.3, Average Generations: 52.8\n",
      "Mutation Rate: 0.01, Crossover Rate: 0.7, Average Generations: 26.35\n",
      "Mutation Rate: 0.01, Crossover Rate: 0.5, Average Generations: 34.15\n",
      "Mutation Rate: 0.01, Crossover Rate: 0.3, Average Generations: 48.7\n",
      "Mutation Rate: 0.1, Crossover Rate: 0.7, Average Generations: 1258.6\n",
      "Mutation Rate: 0.1, Crossover Rate: 0.5, Average Generations: 2213.5\n",
      "Mutation Rate: 0.1, Crossover Rate: 0.3, Average Generations: 3403.1\n"
     ]
    }
   ],
   "source": [
    "import numpy as np\n",
    "\n",
    "def fitness_function(chromosome):\n",
    "    # Fitness is the count of 1s in the chromosome\n",
    "    return np.sum(chromosome)\n",
    "\n",
    "def initialize_population(population_size, chromosome_length):\n",
    "    # Initialize population with random binary chromosomes\n",
    "    return np.random.randint(2, size=(population_size, chromosome_length))\n",
    "\n",
    "def roulette_wheel_selection(population, fitness_values):\n",
    "    # Calculate selection probabilities based on fitness\n",
    "    total_fitness = np.sum(fitness_values)\n",
    "    selection_probabilities = fitness_values / total_fitness\n",
    "    # Select an individual based on probabilities\n",
    "    return population[np.random.choice(len(population), p=selection_probabilities)]\n",
    "\n",
    "def single_point_crossover(parent1, parent2, crossover_rate):\n",
    "    # Perform single point crossover\n",
    "    if np.random.rand() < crossover_rate:\n",
    "        crossover_point = np.random.randint(1, len(parent1))\n",
    "        child1 = np.concatenate([parent1[:crossover_point], parent2[crossover_point:]])\n",
    "        child2 = np.concatenate([parent2[:crossover_point], parent1[crossover_point:]])\n",
    "        return child1, child2\n",
    "    else:\n",
    "        # No crossover, return original parents as children\n",
    "        return parent1, parent2\n",
    "\n",
    "def bitwise_mutation(child, mutation_rate):\n",
    "    # Apply mutation to each bit of the chromosome\n",
    "    for i in range(len(child)):\n",
    "        if np.random.rand() < mutation_rate:\n",
    "            child[i] = 1 - child[i]\n",
    "    return child\n",
    "\n",
    "def genetic_algorithm(population_size, chromosome_length, crossover_rate, mutation_rate, runs):\n",
    "    generations_to_discovery = []\n",
    "\n",
    "    for run in range(runs):\n",
    "        # Initialize population\n",
    "        population = initialize_population(population_size, chromosome_length)\n",
    "        generation = 0\n",
    "        found = False\n",
    "\n",
    "        while not found:\n",
    "            # Calculate fitness for each individual\n",
    "            fitness_values = np.array([fitness_function(individual) for individual in population])\n",
    "\n",
    "            # Check if optimal solution is found\n",
    "            if np.max(fitness_values) == chromosome_length:\n",
    "                found = True\n",
    "                generations_to_discovery.append(generation)\n",
    "                break\n",
    "\n",
    "            # Selection\n",
    "            new_population = []\n",
    "            for _ in range(population_size // 2):\n",
    "                # Select parents\n",
    "                parent1 = roulette_wheel_selection(population, fitness_values)\n",
    "                parent2 = roulette_wheel_selection(population, fitness_values)\n",
    "\n",
    "                # Crossover\n",
    "                child1, child2 = single_point_crossover(parent1, parent2, crossover_rate)\n",
    "\n",
    "                # Mutation\n",
    "                child1 = bitwise_mutation(child1, mutation_rate)\n",
    "                child2 = bitwise_mutation(child2, mutation_rate)\n",
    "\n",
    "                new_population.extend([child1, child2])\n",
    "\n",
    "            population = np.array(new_population)\n",
    "            generation += 1\n",
    "\n",
    "    return np.mean(generations_to_discovery)\n",
    "\n",
    "# Perform experiments with different mutation and crossover rates\n",
    "mutation_rates = [0.001, 0.01, 0.1]\n",
    "crossover_rates = [0.7, 0.5, 0.3]\n",
    "runs = 20\n",
    "\n",
    "for mutation_rate in mutation_rates:\n",
    "    for crossover_rate in crossover_rates:\n",
    "        avg_generations = genetic_algorithm(100, 20, crossover_rate, mutation_rate, runs)\n",
    "        print(f\"Mutation Rate: {mutation_rate}, Crossover Rate: {crossover_rate}, Average Generations: {avg_generations}\")\n"
   ]
  }
 ],
 "metadata": {
  "kernelspec": {
   "display_name": "CMPE452",
   "language": "python",
   "name": "python3"
  },
  "language_info": {
   "codemirror_mode": {
    "name": "ipython",
    "version": 3
   },
   "file_extension": ".py",
   "mimetype": "text/x-python",
   "name": "python",
   "nbconvert_exporter": "python",
   "pygments_lexer": "ipython3",
   "version": "3.9.18"
  }
 },
 "nbformat": 4,
 "nbformat_minor": 2
}
